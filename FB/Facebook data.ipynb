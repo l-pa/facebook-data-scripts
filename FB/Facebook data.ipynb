{
 "cells": [
  {
   "cell_type": "markdown",
   "metadata": {},
   "source": [
    "# Facebook data 📈"
   ]
  },
  {
   "cell_type": "markdown",
   "metadata": {},
   "source": [
    "First of all we need to fix encoding of message.json file. To do this, we will encode message to **latin-1** and decode to **utf8**."
   ]
  },
  {
   "cell_type": "code",
   "execution_count": 1,
   "metadata": {
    "scrolled": true
   },
   "outputs": [
    {
     "name": "stdout",
     "output_type": "stream",
     "text": [
      "Working ...\n"
     ]
    },
    {
     "ename": "FileNotFoundError",
     "evalue": "[Errno 2] No such file or directory: ''",
     "output_type": "error",
     "traceback": [
      "\u001b[1;31m---------------------------------------------------------------------------\u001b[0m",
      "\u001b[1;31mFileNotFoundError\u001b[0m                         Traceback (most recent call last)",
      "\u001b[1;32m<ipython-input-1-30ab6d8db057>\u001b[0m in \u001b[0;36m<module>\u001b[1;34m\u001b[0m\n\u001b[0;32m     17\u001b[0m \u001b[0mprint\u001b[0m\u001b[1;33m(\u001b[0m\u001b[1;34m'Working ...'\u001b[0m\u001b[1;33m)\u001b[0m\u001b[1;33m\u001b[0m\u001b[1;33m\u001b[0m\u001b[0m\n\u001b[0;32m     18\u001b[0m \u001b[1;33m\u001b[0m\u001b[0m\n\u001b[1;32m---> 19\u001b[1;33m \u001b[0mfile\u001b[0m \u001b[1;33m=\u001b[0m \u001b[0mopen\u001b[0m\u001b[1;33m(\u001b[0m\u001b[0mfname\u001b[0m\u001b[1;33m,\u001b[0m \u001b[1;34m'r'\u001b[0m\u001b[1;33m)\u001b[0m  \u001b[1;31m# or change filename to 'message.json'\u001b[0m\u001b[1;33m\u001b[0m\u001b[1;33m\u001b[0m\u001b[0m\n\u001b[0m\u001b[0;32m     20\u001b[0m \u001b[1;33m\u001b[0m\u001b[0m\n\u001b[0;32m     21\u001b[0m \u001b[0mjsonToFix\u001b[0m \u001b[1;33m=\u001b[0m \u001b[0mjson\u001b[0m\u001b[1;33m.\u001b[0m\u001b[0mload\u001b[0m\u001b[1;33m(\u001b[0m\u001b[0mfile\u001b[0m\u001b[1;33m)\u001b[0m\u001b[1;33m\u001b[0m\u001b[1;33m\u001b[0m\u001b[0m\n",
      "\u001b[1;31mFileNotFoundError\u001b[0m: [Errno 2] No such file or directory: ''"
     ]
    }
   ],
   "source": [
    "from PyQt5 import QtGui\n",
    "from PyQt5 import QtGui, QtWidgets\n",
    "\n",
    "import json\n",
    "import os\n",
    "from pathlib import Path \n",
    "\n",
    "def open_file():\n",
    "    app = QtWidgets.QApplication([dir])\n",
    "    fname = QtWidgets.QFileDialog.getOpenFileName(None, \"Select a file...\", '.', filter=\"All files (*)\")\n",
    "    return fname[0]\n",
    "    \n",
    "fname = open_file()\n",
    "filename = '{}_fixed.json'.format(os.path.splitext(fname)[0])\n",
    "\n",
    "\n",
    "print('Working ...')\n",
    "\n",
    "file = open(fname, 'r')  # or change filename to 'message.json'\n",
    "\n",
    "jsonToFix = json.load(file)\n",
    "\n",
    "for i in jsonToFix['messages']:\n",
    "    try:\n",
    "        i['sender_name'] = i['sender_name'].encode('latin-1').decode('utf8')\n",
    "        i['content'] = i['content'].encode('latin-1').decode('utf8')\n",
    "    except Exception:\n",
    "        pass\n",
    "\n",
    "jsonToFix['title'] = jsonToFix['title'].encode('latin-1').decode('utf8')\n",
    "\n",
    "with open(filename, 'w', encoding='utf8') as fout:\n",
    "    json.dump(jsonToFix, fout, indent=2, ensure_ascii=False)\n",
    "\n",
    "print('File created at {}'.format(filename))"
   ]
  },
  {
   "cell_type": "markdown",
   "metadata": {},
   "source": [
    "Now we can start making some cool stats 💻 top **n messages** from conversation 📖"
   ]
  },
  {
   "cell_type": "code",
   "execution_count": null,
   "metadata": {},
   "outputs": [],
   "source": [
    "import re\n",
    "from itertools import islice\n",
    "\n",
    "\n",
    "file = open(filename, 'r', encoding='utf8')\n",
    "\n",
    "msg_json = json.load(file)\n",
    "\n",
    "# Count every word\n",
    "\n",
    "messagesAll = {}\n",
    "\n",
    "for i in msg_json['messages']:\n",
    "    try:\n",
    "        tmp = []\n",
    "       # tmp = re.findall(r\"[\\w']+\", i['content']) not sure which is better 😶\n",
    "        tmp = i['content'].split()\n",
    "        for word in tmp:\n",
    "            if word in messagesAll:\n",
    "                messagesAll[word] += 1\n",
    "            else:\n",
    "                messagesAll[word] = 1\n",
    "    except Exception:\n",
    "        pass\n",
    "\n",
    "sortedAll = sorted(messagesAll.items(), key=lambda kv: kv[1], reverse=True)\n",
    "\n",
    "def first_n_from_iterable(n, iterable):\n",
    "    \"\"\"Return first n items of the iterable as a list\"\"\"\n",
    "    return list(islice(iterable, n))\n",
    "\n",
    "def get_top_messages(dict_msgs, n=10):\n",
    "    \"\"\"Return first n messages of dict\"\"\"\n",
    "\n",
    "    print('\\nTop {} :\\n'.format(n))\n",
    "    for key in first_n_from_iterable(n, dict_msgs):\n",
    "        print(key)\n",
    "        \n",
    "get_top_messages(sortedAll, 5)"
   ]
  },
  {
   "cell_type": "markdown",
   "metadata": {},
   "source": [
    "#TODO Top messages per month / year 📆 and create dictionary with month and total messages."
   ]
  },
  {
   "cell_type": "code",
   "execution_count": null,
   "metadata": {},
   "outputs": [],
   "source": [
    "import datetime\n",
    "\n",
    "messages_per_month_dict = {}\n",
    "user_messages_per_month = {}\n",
    "\n",
    "def get_messages_per_month():\n",
    "    for i in msg_json['messages']:\n",
    "        date = str(datetime.datetime.fromtimestamp(float(i['timestamp'])).strftime('%Y-%B'))\n",
    "        sender = i['sender_name']\n",
    "        \n",
    "        if date in messages_per_month_dict:\n",
    "            messages_per_month_dict[date] += 1\n",
    "        else:\n",
    "            messages_per_month_dict[date] = 1\n",
    "        \n",
    "        if sender in user_messages_per_month:\n",
    "            if date in user_messages_per_month[sender]:\n",
    "                user_messages_per_month[sender][date] += 1\n",
    "            else:\n",
    "                user_messages_per_month[sender][date] = 1\n",
    "        else:\n",
    "            user_messages_per_month[sender] = {}\n",
    "            user_messages_per_month[sender][date] = 1\n",
    "        \n",
    "        \n",
    "get_messages_per_month()"
   ]
  },
  {
   "cell_type": "markdown",
   "metadata": {},
   "source": [
    "Top 5 per sender #TODO group chat 💥 "
   ]
  },
  {
   "cell_type": "code",
   "execution_count": null,
   "metadata": {},
   "outputs": [],
   "source": [
    "user_word_counts = {}\n",
    "sorted_user_word_counts = {}\n",
    "\n",
    "for i in msg_json['messages']:\n",
    "    try:\n",
    "        tmp = []\n",
    "       # tmp = re.findall(r\"[\\w']+\", i['content']) # dont know which is better\n",
    "        tmp = i['content'].split()\n",
    "        sender = i['sender_name']\n",
    "        \n",
    "        if sender not in user_word_counts:\n",
    "            user_word_counts[sender] = {}\n",
    "        \n",
    "        for word in tmp:\n",
    "            if word in user_word_counts[sender]:\n",
    "                user_word_counts[sender][word] += 1\n",
    "            else:\n",
    "                user_word_counts[sender][word] = 1\n",
    "    except Exception:\n",
    "        pass\n",
    "    \n",
    "for user in user_word_counts.keys():\n",
    "    sorted_user_word_counts[user] = sorted(user_word_counts[user].items(), key=lambda kv: kv[1], reverse=True)\n",
    "    \n",
    "def get_top_messages_per_sender(dicts, n=10):\n",
    "    \"\"\"Return first n messages per sender\"\"\"\n",
    "    \n",
    "    for sender in dicts.keys():\n",
    "        print('\\nTop {} from : {}'.format(n, sender))\n",
    "        for key in first_n_from_iterable(n, dicts[sender]):\n",
    "            print(key)\n",
    "\n",
    "get_top_messages_per_sender(sorted_user_word_counts, 5)"
   ]
  },
  {
   "cell_type": "markdown",
   "metadata": {},
   "source": [
    "If your conversation contains some youtube videos (of cource does 😉) you can search for them and their titles! ▶"
   ]
  },
  {
   "cell_type": "code",
   "execution_count": null,
   "metadata": {},
   "outputs": [],
   "source": [
    "from urllib.request import urlopen\n",
    "from lxml import etree\n",
    "\n",
    "def get_youtube_titles_from_conversation():\n",
    " # delete to run this, otherwise its slow af\n",
    "    videoCount = 0\n",
    "    for i in msg_json['messages']:\n",
    "        try:\n",
    "            tmp = []\n",
    "            tmp = i['content'].split()\n",
    "            for word in tmp:\n",
    "                if 'youtube.com/watch' in word:\n",
    "                    try:\n",
    "                        youtube = etree.HTML(urlopen(word).read())\n",
    "                        video_title = youtube.xpath(\n",
    "                            \"//span[@id='eow-title']/@title\")\n",
    "                    except Exception as e:\n",
    "                        print(e)\n",
    "                        video_title = 'Error'\n",
    "\n",
    "                    print('{} -> {}'.format(word, video_title))\n",
    "                    videoCount += 1\n",
    "        except Exception:\n",
    "            pass\n",
    "        \n",
    "#get_youtube_titles_from_conversation()"
   ]
  },
  {
   "cell_type": "markdown",
   "metadata": {},
   "source": [
    "Lets make some graphs(finally)! 🎉 "
   ]
  },
  {
   "cell_type": "code",
   "execution_count": 2,
   "metadata": {},
   "outputs": [
    {
     "ename": "ImportError",
     "evalue": "\nThe plotly.plotly module is deprecated,\nplease install the chart-studio package and use the\nchart_studio.plotly module instead. \n",
     "output_type": "error",
     "traceback": [
      "\u001b[1;31m---------------------------------------------------------------------------\u001b[0m",
      "\u001b[1;31mImportError\u001b[0m                               Traceback (most recent call last)",
      "\u001b[1;32m<ipython-input-2-c416e363efe0>\u001b[0m in \u001b[0;36m<module>\u001b[1;34m\u001b[0m\n\u001b[0;32m      1\u001b[0m \u001b[1;32mimport\u001b[0m \u001b[0mplotly\u001b[0m\u001b[1;33m\u001b[0m\u001b[1;33m\u001b[0m\u001b[0m\n\u001b[1;32m----> 2\u001b[1;33m \u001b[1;32mimport\u001b[0m \u001b[0mplotly\u001b[0m\u001b[1;33m.\u001b[0m\u001b[0mplotly\u001b[0m \u001b[1;32mas\u001b[0m \u001b[0mpy\u001b[0m\u001b[1;33m\u001b[0m\u001b[1;33m\u001b[0m\u001b[0m\n\u001b[0m\u001b[0;32m      3\u001b[0m \u001b[1;32mimport\u001b[0m \u001b[0mplotly\u001b[0m\u001b[1;33m.\u001b[0m\u001b[0mgraph_objs\u001b[0m \u001b[1;32mas\u001b[0m \u001b[0mgo\u001b[0m\u001b[1;33m\u001b[0m\u001b[1;33m\u001b[0m\u001b[0m\n\u001b[0;32m      4\u001b[0m \u001b[1;33m\u001b[0m\u001b[0m\n\u001b[0;32m      5\u001b[0m \u001b[1;32mimport\u001b[0m \u001b[0mpandas\u001b[0m \u001b[1;32mas\u001b[0m \u001b[0mpd\u001b[0m\u001b[1;33m\u001b[0m\u001b[1;33m\u001b[0m\u001b[0m\n",
      "\u001b[1;32md:\\programy(x64)\\python3\\lib\\site-packages\\plotly\\plotly\\__init__.py\u001b[0m in \u001b[0;36m<module>\u001b[1;34m\u001b[0m\n\u001b[0;32m      2\u001b[0m \u001b[1;32mfrom\u001b[0m \u001b[0m_plotly_future_\u001b[0m \u001b[1;32mimport\u001b[0m \u001b[0m_chart_studio_error\u001b[0m\u001b[1;33m\u001b[0m\u001b[1;33m\u001b[0m\u001b[0m\n\u001b[0;32m      3\u001b[0m \u001b[1;33m\u001b[0m\u001b[0m\n\u001b[1;32m----> 4\u001b[1;33m \u001b[0m_chart_studio_error\u001b[0m\u001b[1;33m(\u001b[0m\u001b[1;34m\"plotly\"\u001b[0m\u001b[1;33m)\u001b[0m\u001b[1;33m\u001b[0m\u001b[1;33m\u001b[0m\u001b[0m\n\u001b[0m",
      "\u001b[1;32md:\\programy(x64)\\python3\\lib\\site-packages\\_plotly_future_\\__init__.py\u001b[0m in \u001b[0;36m_chart_studio_error\u001b[1;34m(submodule)\u001b[0m\n\u001b[0;32m     41\u001b[0m \u001b[1;33m\u001b[0m\u001b[0m\n\u001b[0;32m     42\u001b[0m \u001b[1;32mdef\u001b[0m \u001b[0m_chart_studio_error\u001b[0m\u001b[1;33m(\u001b[0m\u001b[0msubmodule\u001b[0m\u001b[1;33m)\u001b[0m\u001b[1;33m:\u001b[0m\u001b[1;33m\u001b[0m\u001b[1;33m\u001b[0m\u001b[0m\n\u001b[1;32m---> 43\u001b[1;33m     raise ImportError(\n\u001b[0m\u001b[0;32m     44\u001b[0m         \"\"\"\n\u001b[0;32m     45\u001b[0m \u001b[0mThe\u001b[0m \u001b[0mplotly\u001b[0m\u001b[1;33m.\u001b[0m\u001b[1;33m{\u001b[0m\u001b[0msubmodule\u001b[0m\u001b[1;33m}\u001b[0m \u001b[0mmodule\u001b[0m \u001b[1;32mis\u001b[0m \u001b[0mdeprecated\u001b[0m\u001b[1;33m,\u001b[0m\u001b[1;33m\u001b[0m\u001b[1;33m\u001b[0m\u001b[0m\n",
      "\u001b[1;31mImportError\u001b[0m: \nThe plotly.plotly module is deprecated,\nplease install the chart-studio package and use the\nchart_studio.plotly module instead. \n"
     ]
    }
   ],
   "source": [
    "import plotly\n",
    "import plotly.plotly as py\n",
    "import plotly.graph_objs as go\n",
    "\n",
    "import pandas as pd\n",
    "\n",
    "def key_fnc(elem):\n",
    "    return datetime.datetime.strptime(elem, '%Y-%B')\n",
    "\n",
    "def add_month(date):\n",
    "    tmp = date.replace(day=1)\n",
    "    tmp = tmp + datetime.timedelta(days=32)\n",
    "    return tmp.replace(day=1)\n",
    "\n",
    "x_axe = list(messages_per_month_dict.keys())\n",
    "x_axe_sorted = sorted(x_axe, key=key_fnc)\n",
    "\n",
    "date = datetime.datetime.strptime(x_axe_sorted[0],'%Y-%B')\n",
    "end = datetime.datetime.strptime(x_axe_sorted[-1],'%Y-%B')\n",
    "\n",
    "x_axe_sorted = []\n",
    "\n",
    "while date != end:\n",
    "    x_axe_sorted.append(date.strftime('%Y-%B'))\n",
    "    date = add_month(date)\n",
    "    \n",
    "y_axe = []\n",
    "for key in x_axe_sorted:\n",
    "    if key in messages_per_month_dict:\n",
    "        y_axe.append(messages_per_month_dict[str(key)])\n",
    "    else:\n",
    "        y_axe.append(0)\n",
    "\n",
    "plotly.offline.plot({\n",
    "    \"data\": [go.Scatter(x=x_axe_sorted, y=y_axe)],\n",
    "    \"layout\": go.Layout(title=\"Month graph 🎉\")\n",
    "}, auto_open=True)"
   ]
  },
  {
   "cell_type": "markdown",
   "metadata": {},
   "source": [
    "Per sender message graph 🎈"
   ]
  },
  {
   "cell_type": "code",
   "execution_count": null,
   "metadata": {},
   "outputs": [],
   "source": [
    "import plotly\n",
    "import plotly.plotly as py\n",
    "import plotly.graph_objs as go\n",
    "\n",
    "import pandas as pd\n",
    "\n",
    "import random\n",
    "\n",
    "def key_fnc(elem):\n",
    "    return datetime.datetime.strptime(elem, '%Y-%B')\n",
    "\n",
    "x_axe = list(messages_per_month_dict.keys())\n",
    "x_axe_sorted = sorted(x_axe, key=key_fnc)\n",
    "\n",
    "date = datetime.datetime.strptime(x_axe_sorted[0],'%Y-%B')\n",
    "end = datetime.datetime.strptime(x_axe_sorted[-1],'%Y-%B')\n",
    "\n",
    "x_axe_sorted = []\n",
    "\n",
    "while date != end:\n",
    "    x_axe_sorted.append(date.strftime('%Y-%B'))\n",
    "    date = add_month(date)\n",
    "\n",
    "data = []\n",
    "\n",
    "for sender in user_messages_per_month.keys():\n",
    "    y_sender = []\n",
    "    for date in x_axe_sorted:\n",
    "        if(date not in user_messages_per_month[sender]):\n",
    "            y_sender.append(0)\n",
    "        else:\n",
    "            y_sender.append(user_messages_per_month[sender][date])\n",
    "\n",
    "    r = lambda: random.randint(0,255)\n",
    "    graph_color = '#%02X%02X%02X' % (r(),r(),r())\n",
    "    \n",
    "    sender_msg = go.Scatter(\n",
    "                x=x_axe_sorted,\n",
    "                y=y_sender,\n",
    "                name = sender,\n",
    "                line = dict(color = graph_color),\n",
    "                opacity = 0.8)\n",
    "    data.append(sender_msg)\n",
    "\n",
    "plotly.offline.plot({\n",
    "    \"data\": data,\n",
    "    \"layout\": go.Layout(title=\"Month graph 🎉\")\n",
    "}, auto_open=True)"
   ]
  },
  {
   "cell_type": "code",
   "execution_count": null,
   "metadata": {},
   "outputs": [],
   "source": []
  }
 ],
 "metadata": {
  "kernelspec": {
   "display_name": "Python 3",
   "language": "python",
   "name": "python3"
  },
  "language_info": {
   "codemirror_mode": {
    "name": "ipython",
    "version": 3
   },
   "file_extension": ".py",
   "mimetype": "text/x-python",
   "name": "python",
   "nbconvert_exporter": "python",
   "pygments_lexer": "ipython3",
   "version": "3.8.3"
  }
 },
 "nbformat": 4,
 "nbformat_minor": 1
}
