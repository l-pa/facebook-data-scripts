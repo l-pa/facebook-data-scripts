{
 "cells": [
  {
   "cell_type": "markdown",
   "metadata": {},
   "source": [
    "# YouTube watch history"
   ]
  },
  {
   "cell_type": "markdown",
   "metadata": {},
   "source": [
    "Selection of JSON file containing user's YouTube watching history"
   ]
  },
  {
   "cell_type": "code",
   "execution_count": null,
   "metadata": {},
   "outputs": [],
   "source": [
    "from PyQt5 import QtGui\n",
    "from PyQt5 import QtGui, QtWidgets\n",
    "\n",
    "import json\n",
    "import os\n",
    "from pathlib import Path \n",
    "\n",
    "def open_file():\n",
    "    app = QtWidgets.QApplication([dir])\n",
    "    fname = QtWidgets.QFileDialog.getOpenFileName(None, \"Select a file...\", '.json', filter=\"JSON files (*)\")\n",
    "    return fname[0]\n",
    "    \n",
    "fname = open_file()\n",
    "\n",
    "with open(fname, encoding='utf-8') as file:\n",
    "    history_data = json.load(file)\n"
   ]
  },
  {
   "cell_type": "markdown",
   "metadata": {},
   "source": [
    "Counting videos per channel and ordering channels in ascending order"
   ]
  },
  {
   "cell_type": "code",
   "execution_count": null,
   "metadata": {},
   "outputs": [],
   "source": [
    "channels = {}\n",
    "\n",
    "for video in history_data:    \n",
    "    channel = video['subtitles'][0]['name'] if 'subtitles' in video else 'unknown'\n",
    "    \n",
    "    if not channel in channels:\n",
    "        channels[channel] = 1\n",
    "    else:\n",
    "        channels[channel] += 1\n",
    "        \n",
    "for x in {k: v for k, v in sorted(channels.items(), key=lambda item: item[1])}.items():\n",
    "    print(x)\n",
    "    "
   ]
  },
  {
   "cell_type": "markdown",
   "metadata": {},
   "source": [
    "Analyzing timestamps (format ISO 8601). Counting watched videos per month and per day. Timeframe of the history is determined too."
   ]
  },
  {
   "cell_type": "code",
   "execution_count": null,
   "metadata": {},
   "outputs": [],
   "source": [
    "import dateutil.parser\n",
    "\n",
    "monthly = {}\n",
    "daily = {}\n",
    "tmp = []\n",
    "\n",
    "for video in history_data:\n",
    "    time = dateutil.parser.parse(video['time'])\n",
    "    \n",
    "    month = time.strftime('%Y-%B')\n",
    "    day = time.strftime('%Y-%B-%d')\n",
    "    \n",
    "    if not month in monthly:\n",
    "        monthly[month] = 1\n",
    "    else:\n",
    "        monthly[month] += 1\n",
    "    \n",
    "    if not day in daily:\n",
    "        daily[day] = 1\n",
    "    else:\n",
    "        daily[day] += 1\n",
    "        \n",
    "print(monthly)\n",
    "\n",
    "for item in {k: v for k, v in sorted(daily.items(), key=lambda item: item[1])}.items():\n",
    "    print(item)\n",
    "\n",
    "timeframe = dateutil.parser.parse(history_data[0]['time']) - dateutil.parser.parse(history_data[-1]['time'])\n",
    "print(timeframe.days)\n"
   ]
  },
  {
   "cell_type": "markdown",
   "metadata": {},
   "source": [
    "Using YouTube API v3 to obtain lengths of watched videos. "
   ]
  },
  {
   "cell_type": "code",
   "execution_count": null,
   "metadata": {},
   "outputs": [],
   "source": [
    "import os\n",
    "import json\n",
    "\n",
    "import google_auth_oauthlib.flow\n",
    "import googleapiclient.discovery\n",
    "import googleapiclient.errors\n",
    "\n",
    "scopes = [\"https://www.googleapis.com/auth/youtube.readonly\"]\n",
    "\n",
    "# create an API client\n",
    "api_service_name = \"youtube\"\n",
    "api_version = \"v3\"\n",
    "\n",
    "#json file containing api key\n",
    "#{\"api_key\":\"<KEY>\"}\n",
    "\n",
    "client_secrets_file = \"keys.json\"\n",
    "\n",
    "with open(client_secrets_file, 'r') as secret:\n",
    "    secret_json = json.load(secret)\n",
    "    youtube = googleapiclient.discovery.build(api_service_name, api_version, developerKey=secret_json['api_key'])\n",
    "\n",
    "counter = 0\n",
    "minutes = 0\n",
    "durations = []\n",
    "\n",
    "ids = []\n",
    "for video in history_data:\n",
    "    id = video['titleUrl'].split('?v=')[1] if 'titleUrl' in video else None\n",
    "    if id is None:\n",
    "        continue\n",
    "    \n",
    "    ids.append(id)\n",
    "    counter += 1\n",
    "    \n",
    "    #50 ids per api call\n",
    "    if counter == 50:\n",
    "        request = youtube.videos().list(\n",
    "            part=\"contentDetails\",\n",
    "            id=','.join(ids)\n",
    "        )\n",
    "\n",
    "        response = request.execute()\n",
    "        for detail in response['items']:\n",
    "            durations.append(detail['contentDetails']['duration'])\n",
    "        \n",
    "        ids = []\n",
    "        counter = 0\n",
    "\n",
    "print(len(durations))"
   ]
  },
  {
   "cell_type": "markdown",
   "metadata": {},
   "source": [
    "Parsing duration strings and suming up lengths of videos"
   ]
  },
  {
   "cell_type": "code",
   "execution_count": null,
   "metadata": {
    "scrolled": true
   },
   "outputs": [],
   "source": [
    "import re\n",
    "\n",
    "pattern = r\"P(\\d+D)?T?(\\d+H)?(\\d+M)?(\\d+S)?\"\n",
    "prog = re.compile(pattern)\n",
    "\n",
    "hours = 0\n",
    "minutes = 0\n",
    "seconds = 0\n",
    "\n",
    "for duration in durations:\n",
    "    groups = prog.search(duration).groups()\n",
    "    #days, hours, minutes, seconds\n",
    "    hours += int(groups[1][:-1]) if groups[1] is not None else 0\n",
    "    minutes += int(groups[2][:-1]) if groups[2] is not None else 0\n",
    "    seconds += int(groups[3][:-1]) if groups[3] is not None else 0\n",
    "\n",
    "    \n",
    "hours += minutes / 60 + seconds / 3600\n",
    "\n",
    "#days\n",
    "print(hours/24) "
   ]
  }
 ],
 "metadata": {
  "kernelspec": {
   "display_name": "Python 3",
   "language": "python",
   "name": "python3"
  },
  "language_info": {
   "codemirror_mode": {
    "name": "ipython",
    "version": 3
   },
   "file_extension": ".py",
   "mimetype": "text/x-python",
   "name": "python",
   "nbconvert_exporter": "python",
   "pygments_lexer": "ipython3",
   "version": "3.8.3"
  }
 },
 "nbformat": 4,
 "nbformat_minor": 4
}
