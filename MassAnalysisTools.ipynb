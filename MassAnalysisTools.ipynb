{
 "cells": [
  {
   "cell_type": "markdown",
   "metadata": {},
   "source": [
    "# Facebook data 📈"
   ]
  },
  {
   "cell_type": "markdown",
   "metadata": {},
   "source": [
    "Directory selection"
   ]
  },
  {
   "cell_type": "code",
   "execution_count": null,
   "metadata": {},
   "outputs": [],
   "source": [
    "from PyQt5 import QtWidgets\n",
    "\n",
    "import json\n",
    "import os\n",
    "from pathlib import Path \n",
    "\n",
    "def get_directory():\n",
    "    app = QtWidgets.QApplication([dir])\n",
    "    return QtWidgets.QFileDialog.getExistingDirectory(None, \"Select messages directory\")\n",
    "\n",
    "dirname = get_directory()\n",
    "\n",
    "conversation_dirs = os.listdir(dirname)\n",
    "print('Printing conversations...')\n",
    "print(conversation_dirs)"
   ]
  },
  {
   "cell_type": "markdown",
   "metadata": {},
   "source": [
    "First of all we need to fix encoding of message.json files. To do this, we will encode message to **latin-1** and decode to **utf8**. Fixed Json files are created in tmp folder in root folder of jupyter notebook file."
   ]
  },
  {
   "cell_type": "code",
   "execution_count": null,
   "metadata": {},
   "outputs": [],
   "source": [
    "def fixJsons(srcFolder, conversationDirs, destFolder):\n",
    "    if not os.path.exists(destFolder):\n",
    "        os.makedirs(destFolder)\n",
    "\n",
    "    for convdir in conversation_dirs:\n",
    "            src = '{}/{}/message.json'.format(srcFolder, convdir)\n",
    "            dst = '{}/{}.json'.format(destFolder,convdir)\n",
    "\n",
    "            try:\n",
    "                src_file = open(src, 'r')\n",
    "            except Exception:\n",
    "                continue\n",
    "\n",
    "            jsonToFix = json.load(src_file)\n",
    "\n",
    "            for i in jsonToFix['messages']:\n",
    "                try:\n",
    "                    i['sender_name'] = i['sender_name'].encode('latin-1').decode('utf8')\n",
    "                    i['content'] = i['content'].encode('latin-1').decode('utf8')\n",
    "                except Exception:\n",
    "                    pass\n",
    "\n",
    "            jsonToFix['title'] = jsonToFix['title'].encode('latin-1').decode('utf8')\n",
    "\n",
    "            with open(dst, 'w', encoding='utf8') as fout:\n",
    "                json.dump(jsonToFix, fout, indent=2, ensure_ascii=False)\n",
    "\n",
    "            print('Source {} generated {}'.format(convdir,dst))\n",
    "            \n",
    "fixJsons(dirname,conversation_dirs,'tmp')"
   ]
  },
  {
   "cell_type": "markdown",
   "metadata": {},
   "source": [
    "Count messages in all conversations"
   ]
  },
  {
   "cell_type": "code",
   "execution_count": null,
   "metadata": {
    "scrolled": true
   },
   "outputs": [],
   "source": [
    "def countMessages(srcDir):\n",
    "    conversation_counts = {}\n",
    "\n",
    "    fixed_jsons = os.listdir(srcDir)\n",
    "\n",
    "    for jsfile in fixed_jsons:\n",
    "        fixed_json = json.load(open('{}/{}'.format(srcDir,jsfile), 'r', encoding='utf-8'))\n",
    "        conversation_counts[str(fixed_json[\"title\"])] = len(fixed_json[\"messages\"])\n",
    "  \n",
    "    return conversation_counts\n",
    "\n",
    "def countMessagesFiltered(srcDir, filterAmount):\n",
    "    filtered_total = 0\n",
    "    filtered_counts = {}\n",
    "    \n",
    "    fixed_jsons = os.listdir(srcDir)\n",
    "    \n",
    "    for jsfile in fixed_jsons:\n",
    "        fixed_json = json.load(open('{}/{}'.format(srcDir,jsfile), 'r', encoding='utf-8'))\n",
    "\n",
    "        count = len(fixed_json[\"messages\"])\n",
    "\n",
    "        if count < filterAmount:\n",
    "            filtered_total += count\n",
    "        else:\n",
    "            filtered_counts[str(fixed_json[\"title\"])] = count\n",
    "\n",
    "        filtered_counts[\"Other\"] = filtered_total\n",
    "    \n",
    "    return filtered_counts\n",
    "\n",
    "conversation_counts = countMessages('tmp')\n",
    "filtered_counts = countMessagesFiltered('tmp',1000)\n",
    "\n",
    "print(conversation_counts)\n",
    "print(filtered_counts)"
   ]
  },
  {
   "cell_type": "markdown",
   "metadata": {},
   "source": [
    "Export dictionary to csv file"
   ]
  },
  {
   "cell_type": "code",
   "execution_count": null,
   "metadata": {},
   "outputs": [],
   "source": [
    "def exportToCsv(srcdict, path):\n",
    "    with open(path,'w',encoding='utf-8') as out_file:\n",
    "        for k,v in srcdict.items():\n",
    "            out_file.write('{};{}\\n'.format(k,v))\n",
    "\n",
    "exportToCsv(conversation_counts,'raw.csv')\n",
    "exportToCsv(filtered_counts,'raw.csv')\n",
    "        \n",
    "print(\"Done writing files\")"
   ]
  },
  {
   "cell_type": "markdown",
   "metadata": {},
   "source": [
    "List all hashtags"
   ]
  },
  {
   "cell_type": "code",
   "execution_count": null,
   "metadata": {},
   "outputs": [],
   "source": [
    "def findHashTags(srcDir):\n",
    "    hashtag_lists = {}\n",
    "    fixed_jsons = os.listdir(srcDir)\n",
    "\n",
    "    for jsfile in fixed_jsons:\n",
    "        fixed_json = json.load(open('{}/{}'.format(srcDir,jsfile), 'r', encoding='utf-8'))\n",
    "        print('Analyzing file {} '.format(jsfile), end='', flush=True)\n",
    "        name = fixed_json[\"title\"]\n",
    "        listCreated = False\n",
    "\n",
    "        for msg in fixed_json[\"messages\"]:\n",
    "            try:\n",
    "                words = msg['content'].split()\n",
    "\n",
    "                for word in words:\n",
    "                    if word.startswith('#'):\n",
    "                        if not listCreated:\n",
    "                            hashtag_lists[name] = []\n",
    "                            listCreated = True\n",
    "                        if not word in hashtag_lists[name]:\n",
    "                            hashtag_lists[name].append(word)\n",
    "            except Exception:\n",
    "                continue\n",
    "        if name in hashtag_lists:\n",
    "            print(\"Found {} unique hashtags\".format(len(hashtag_lists[name])))\n",
    "        else:\n",
    "            print(\"Found 0 hashtags\") \n",
    "            \n",
    "    return hashtag_lists\n",
    "\n",
    "hashtag_lists = findHashTags('tmp')"
   ]
  },
  {
   "cell_type": "code",
   "execution_count": null,
   "metadata": {},
   "outputs": [],
   "source": []
  }
 ],
 "metadata": {
  "kernelspec": {
   "display_name": "Python 3",
   "language": "python",
   "name": "python3"
  },
  "language_info": {
   "codemirror_mode": {
    "name": "ipython",
    "version": 3
   },
   "file_extension": ".py",
   "mimetype": "text/x-python",
   "name": "python",
   "nbconvert_exporter": "python",
   "pygments_lexer": "ipython3",
   "version": "3.6.4"
  }
 },
 "nbformat": 4,
 "nbformat_minor": 2
}
