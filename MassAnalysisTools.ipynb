{
 "cells": [
  {
   "cell_type": "markdown",
   "metadata": {},
   "source": [
    "# Facebook data 📈"
   ]
  },
  {
   "cell_type": "markdown",
   "metadata": {},
   "source": [
    "Directory selection"
   ]
  },
  {
   "cell_type": "code",
   "execution_count": null,
   "metadata": {},
   "outputs": [],
   "source": [
    "from PyQt5 import QtWidgets\n",
    "\n",
    "import json\n",
    "import os\n",
    "from pathlib import Path \n",
    "\n",
    "def get_directory():\n",
    "    app = QtWidgets.QApplication([dir])\n",
    "    return QtWidgets.QFileDialog.getExistingDirectory(None, \"Select messages directory\")\n",
    "\n",
    "dirname = get_directory()\n",
    "\n",
    "conversation_dirs = os.listdir(dirname)\n",
    "print('Printing conversations...')\n",
    "print(conversation_dirs)"
   ]
  },
  {
   "cell_type": "markdown",
   "metadata": {},
   "source": [
    "First of all we need to fix encoding of message.json files. To do this, we will encode message to **latin-1** and decode to **utf8**. Fixed Json files are created in tmp folder in root folder of jupyter notebook file."
   ]
  },
  {
   "cell_type": "code",
   "execution_count": null,
   "metadata": {},
   "outputs": [],
   "source": [
    "if not os.path.exists('tmp'):\n",
    "    os.makedirs('tmp')\n",
    "    \n",
    "for convdir in conversation_dirs:\n",
    "        src = '{}/{}/message.json'.format(dirname, convdir)\n",
    "        dst = 'tmp/{}.json'.format(convdir)\n",
    "        print(src)\n",
    "        \n",
    "        try:\n",
    "            src_file = open(src, 'r')\n",
    "        except Exception:\n",
    "            continue\n",
    "        \n",
    "        jsonToFix = json.load(src_file)\n",
    "            \n",
    "        for i in jsonToFix['messages']:\n",
    "            try:\n",
    "                i['sender_name'] = i['sender_name'].encode('latin-1').decode('utf8')\n",
    "                i['content'] = i['content'].encode('latin-1').decode('utf8')\n",
    "            except Exception:\n",
    "                pass\n",
    "        \n",
    "        jsonToFix['title'] = jsonToFix['title'].encode('latin-1').decode('utf8')\n",
    "\n",
    "        with open(dst, 'w', encoding='utf8') as fout:\n",
    "            json.dump(jsonToFix, fout, indent=2, ensure_ascii=False)\n",
    "\n",
    "        print('File created at {}'.format(dst))"
   ]
  },
  {
   "cell_type": "markdown",
   "metadata": {},
   "source": [
    "Count messages in all conversations"
   ]
  },
  {
   "cell_type": "code",
   "execution_count": null,
   "metadata": {
    "scrolled": true
   },
   "outputs": [],
   "source": [
    "total = 0\n",
    "conversation_counts = {}\n",
    "\n",
    "filtered_total = 0\n",
    "filtered_counts = {}\n",
    "\n",
    "fixed_jsons = os.listdir('tmp')\n",
    "\n",
    "for jsfile in fixed_jsons:\n",
    "    fixed_json = json.load(open('tmp/{}'.format(jsfile), 'r', encoding='utf-8'))\n",
    "    \n",
    "    count = len(fixed_json[\"messages\"])\n",
    "    total += count\n",
    "    \n",
    "    conversation_counts[str(fixed_json[\"title\"])] = count\n",
    "    if count < 100:\n",
    "        filtered_total += count\n",
    "    else:\n",
    "        filtered_counts[str(fixed_json[\"title\"])] = count\n",
    "\n",
    "filtered_counts[\"Other\"] = filtered_total\n",
    "    \n",
    "print('Count of messages across conversations:{}'.format(total))\n",
    "print(conversation_counts)\n",
    "print(filtered_counts)"
   ]
  },
  {
   "cell_type": "markdown",
   "metadata": {},
   "source": [
    "Export data to csv files for now"
   ]
  },
  {
   "cell_type": "code",
   "execution_count": null,
   "metadata": {},
   "outputs": [],
   "source": [
    "with open('raw.csv','w',encoding='utf-8') as raw_out:\n",
    "    for k,v in conversation_counts.items():\n",
    "        raw_out.write('{};{}\\n'.format(k,v))\n",
    "    \n",
    "with open('filtered.csv','w',encoding='utf-8') as fil_out:\n",
    "    for k,v in filtered_counts.items():\n",
    "        fil_out.write('{};{}\\n'.format(k,v))\n",
    "        \n",
    "print(\"Done writing files\")"
   ]
  },
  {
   "cell_type": "code",
   "execution_count": null,
   "metadata": {},
   "outputs": [],
   "source": []
  }
 ],
 "metadata": {
  "kernelspec": {
   "display_name": "Python 3",
   "language": "python",
   "name": "python3"
  },
  "language_info": {
   "codemirror_mode": {
    "name": "ipython",
    "version": 3
   },
   "file_extension": ".py",
   "mimetype": "text/x-python",
   "name": "python",
   "nbconvert_exporter": "python",
   "pygments_lexer": "ipython3",
   "version": "3.6.4"
  }
 },
 "nbformat": 4,
 "nbformat_minor": 2
}
